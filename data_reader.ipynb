{
 "cells": [
  {
   "cell_type": "code",
   "execution_count": null,
   "metadata": {},
   "outputs": [],
   "source": [
    "%matplotlib inline"
   ]
  },
  {
   "cell_type": "code",
   "execution_count": null,
   "metadata": {},
   "outputs": [],
   "source": [
    "# imports & constants\n",
    "import os.path\n",
    "import numpy as np\n",
    "import pandas as pd\n",
    "import matplotlib.pyplot as plt\n",
    "\n",
    "\n",
    "PATH_PREFIX = os.path.join(\".\", \"dataset_live\")\n",
    "DATASET_ORIGINAL = os.path.join(PATH_PREFIX, \"original\")\n",
    "DATASET_EXPANDED = os.path.join(PATH_PREFIX, \"expanded\")\n",
    "\n",
    "ori_data = {\n",
    "    \"load_energy_meter\": os.path.join(DATASET_ORIGINAL, \"load_pwr.csv\"),\n",
    "    \"common_services\": os.path.join(DATASET_ORIGINAL, \"cserv_pwr.csv\"),\n",
    "    \"pv_generation\": os.path.join(DATASET_ORIGINAL, \"pv_pwr.csv\"),\n",
    "    \"meters_index\": os.path.join(DATASET_ORIGINAL, \"dataset_index.csv\"),\n",
    "    \"support\": os.path.join(PATH_PREFIX, \"HackTheElectron dataset support data.xlsx\")\n",
    "}\n",
    "\n",
    "exp_data = {\n",
    "    \"load_energy_meter\": os.path.join(DATASET_EXPANDED, \"load_pwr.csv\"),\n",
    "    \"common_services\": os.path.join(DATASET_EXPANDED, \"cserv_pwr.csv\"),\n",
    "    \"pv_generation\": os.path.join(DATASET_EXPANDED, \"pv_pwr.csv\"),\n",
    "    \"meters_index\": os.path.join(DATASET_EXPANDED, \"dataset_index.csv\"),\n",
    "    \"building\": os.path.join(DATASET_EXPANDED, \"building_type.csv\"),\n",
    "    \"tariffs\": os.path.join(DATASET_EXPANDED, \"tariffs.csv\"),\n",
    "    \"support\": os.path.join(PATH_PREFIX, \"HackTheElectron dataset support data.xlsx\")\n",
    "}\n"
   ]
  },
  {
   "cell_type": "code",
   "execution_count": null,
   "metadata": {},
   "outputs": [],
   "source": [
    "# reading original data\n",
    "\n",
    "df_load = pd.read_csv(ori_data['load_energy_meter'],sep=';')\n",
    "df_dataset_index = pd.read_csv(ori_data['meters_index'],sep=';', encoding=\"latin1\")\n",
    "\n",
    "df_load = df_load.drop(columns=\"Unnamed: 0\") # dropping meter ID (??)\n"
   ]
  },
  {
   "cell_type": "code",
   "execution_count": null,
   "metadata": {},
   "outputs": [],
   "source": [
    "df_load.head()"
   ]
  },
  {
   "cell_type": "code",
   "execution_count": null,
   "metadata": {},
   "outputs": [],
   "source": [
    "df_dataset_index.head()"
   ]
  },
  {
   "cell_type": "code",
   "execution_count": null,
   "metadata": {},
   "outputs": [],
   "source": []
  },
  {
   "cell_type": "code",
   "execution_count": null,
   "metadata": {},
   "outputs": [],
   "source": [
    "# reading expanded data\n",
    "\n",
    "\n"
   ]
  }
 ],
 "metadata": {
  "kernelspec": {
   "display_name": "Python 3",
   "language": "python",
   "name": "python3"
  },
  "language_info": {
   "codemirror_mode": {
    "name": "ipython",
    "version": 3
   },
   "file_extension": ".py",
   "mimetype": "text/x-python",
   "name": "python",
   "nbconvert_exporter": "python",
   "pygments_lexer": "ipython3",
   "version": "3.7.3"
  }
 },
 "nbformat": 4,
 "nbformat_minor": 2
}
